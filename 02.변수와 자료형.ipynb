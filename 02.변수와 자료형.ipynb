{
 "cells": [
  {
   "cell_type": "markdown",
   "id": "eb2730ff",
   "metadata": {},
   "source": [
    "# --- 변수와 자료형 ---\n",
    "## 변수\n",
    "계산에 필요한 자료를 일시적으로 저장하거나 처리결과를 담을 수 있는 기억장소를 지정해 주는 역할.   \n",
    "변수 이름은 값을 지정하는 메모리 영역의 이름으로 할당.\n",
    "\n",
    "## 변수 이름의 작성 규칙\n",
    "- 첫자는 영문으로 시작.\n",
    "- 첫자를 제외하고 숫자, under bar, dot를 사용할 수 있음\n",
    "- 대문자와 소문자를 구분.\n",
    "- 변수 이름은 의미를 파악할 수 있는 이름으로 저장하는 것이 좋음.\n",
    "- 두 단어를 포함한 변수 이름을 지정할 경우 두 번째 단어의 첫자는 대문자로 표시(camel method)나 under bar(snake method)로 표시하는 것이 가독성이 좋음."
   ]
  },
  {
   "cell_type": "markdown",
   "id": "6534700e",
   "metadata": {},
   "source": [
    "# 자료형\n",
    "## 숫자 자료형"
   ]
  },
  {
   "cell_type": "code",
   "execution_count": 1,
   "id": "e6eda221",
   "metadata": {},
   "outputs": [
    {
     "data": {
      "text/plain": [
       "0"
      ]
     },
     "execution_count": 1,
     "metadata": {},
     "output_type": "execute_result"
    }
   ],
   "source": [
    "# 정수형\n",
    "var01 = 123\n",
    "var01 = -17\n",
    "var01 = 0\n",
    "\n",
    "var01\n",
    "# jupyter로 사용하기 때문에 print()가 필요 없음"
   ]
  },
  {
   "cell_type": "code",
   "execution_count": 2,
   "id": "517317cb",
   "metadata": {},
   "outputs": [
    {
     "data": {
      "text/plain": [
       "-12.34"
      ]
     },
     "execution_count": 2,
     "metadata": {},
     "output_type": "execute_result"
    }
   ],
   "source": [
    "# 실수형\n",
    "\n",
    "var02 = 1.2\n",
    "var02 = -12.34\n",
    "\n",
    "var02"
   ]
  },
  {
   "cell_type": "code",
   "execution_count": 3,
   "id": "904c4edd",
   "metadata": {},
   "outputs": [
    {
     "name": "stdout",
     "output_type": "stream",
     "text": [
      "덧셈 : 7\n",
      "뺄셈 : -1\n",
      "곱셈 : 12\n",
      "실수 나눗셈 : 0.75\n",
      "정수 나눗셈 몫 : 0\n",
      "정수 나눗셈 나머지 : 3\n",
      "제곱 : 9\n",
      "제곱 : 9\n"
     ]
    }
   ],
   "source": [
    "# 연산자\n",
    "\n",
    "var01 = 3\n",
    "var02 = 4\n",
    "\n",
    "print('덧셈 :', var01 + var02)\n",
    "print('뺄셈 :', var01 - var02)\n",
    "print('곱셈 :', var01 * var02)\n",
    "print('실수 나눗셈 :', var01 / var02)\n",
    "print('정수 나눗셈 몫 :', var01 // var02)\n",
    "print('정수 나눗셈 나머지 :', var01 % var02)\n",
    "print('제곱 :', var01 ** 2)\n",
    "print('제곱 :', pow(var01, 2))"
   ]
  },
  {
   "cell_type": "markdown",
   "id": "bcb2d910",
   "metadata": {},
   "source": [
    "## 파이썬 모듈을 이용한 수학계산"
   ]
  },
  {
   "cell_type": "code",
   "execution_count": 4,
   "id": "f7fb56f0",
   "metadata": {},
   "outputs": [],
   "source": [
    "# 수학계산 모듈 불러오기\n",
    "import math"
   ]
  },
  {
   "cell_type": "code",
   "execution_count": 5,
   "id": "68666b52",
   "metadata": {},
   "outputs": [
    {
     "data": {
      "text/plain": [
       "9.0"
      ]
     },
     "execution_count": 5,
     "metadata": {},
     "output_type": "execute_result"
    }
   ],
   "source": [
    "# 거듭제곱\n",
    "math.pow(var01, 2)"
   ]
  },
  {
   "cell_type": "code",
   "execution_count": 6,
   "id": "988cce5e",
   "metadata": {},
   "outputs": [
    {
     "data": {
      "text/plain": [
       "1.7320508075688772"
      ]
     },
     "execution_count": 6,
     "metadata": {},
     "output_type": "execute_result"
    }
   ],
   "source": [
    "# 제곱근\n",
    "math.sqrt(var01)"
   ]
  },
  {
   "cell_type": "code",
   "execution_count": 7,
   "id": "da525794",
   "metadata": {},
   "outputs": [
    {
     "data": {
      "text/plain": [
       "0.8509035245341184"
      ]
     },
     "execution_count": 7,
     "metadata": {},
     "output_type": "execute_result"
    }
   ],
   "source": [
    "# sin(45)\n",
    "math.sin(45)"
   ]
  },
  {
   "cell_type": "code",
   "execution_count": 8,
   "id": "8d5abaf5",
   "metadata": {},
   "outputs": [
    {
     "data": {
      "text/plain": [
       "1.0"
      ]
     },
     "execution_count": 8,
     "metadata": {},
     "output_type": "execute_result"
    }
   ],
   "source": [
    "# sin(45)^2 + cos(45)^2\n",
    "math.pow(math.sin(45),2) + math.pow(math.cos(45),2)"
   ]
  },
  {
   "cell_type": "markdown",
   "id": "39d19562",
   "metadata": {},
   "source": [
    "# 난수 발생"
   ]
  },
  {
   "cell_type": "code",
   "execution_count": 9,
   "id": "196004e1",
   "metadata": {},
   "outputs": [],
   "source": [
    "import random"
   ]
  },
  {
   "cell_type": "code",
   "execution_count": 10,
   "id": "1d3dfaf8",
   "metadata": {},
   "outputs": [
    {
     "data": {
      "text/plain": [
       "57"
      ]
     },
     "execution_count": 10,
     "metadata": {},
     "output_type": "execute_result"
    }
   ],
   "source": [
    "# 정수형 난수\n",
    "random.randint(1, 100)"
   ]
  },
  {
   "cell_type": "code",
   "execution_count": 11,
   "id": "19a5b0a5",
   "metadata": {},
   "outputs": [
    {
     "data": {
      "text/plain": [
       "[4, 3, 1]"
      ]
     },
     "execution_count": 11,
     "metadata": {},
     "output_type": "execute_result"
    }
   ],
   "source": [
    "rlist = [1,2,3,4,5]\n",
    "random.sample(rlist,3)"
   ]
  },
  {
   "cell_type": "code",
   "execution_count": 12,
   "id": "21b6dbd4",
   "metadata": {
    "collapsed": true
   },
   "outputs": [
    {
     "name": "stdout",
     "output_type": "stream",
     "text": [
      "1\n",
      "2\n",
      "3\n",
      "4\n",
      "5\n",
      "6\n",
      "7\n",
      "8\n",
      "9\n",
      "10\n",
      "11\n",
      "12\n",
      "13\n",
      "14\n",
      "15\n",
      "16\n",
      "17\n",
      "18\n",
      "19\n",
      "20\n",
      "21\n",
      "22\n",
      "23\n",
      "24\n",
      "25\n",
      "26\n",
      "27\n",
      "28\n",
      "29\n",
      "30\n",
      "31\n",
      "32\n",
      "33\n",
      "34\n",
      "35\n",
      "36\n",
      "37\n",
      "38\n",
      "39\n",
      "40\n",
      "41\n",
      "42\n",
      "43\n",
      "44\n",
      "45\n",
      "46\n",
      "47\n",
      "48\n",
      "49\n",
      "50\n",
      "51\n",
      "52\n",
      "53\n",
      "54\n",
      "55\n",
      "56\n",
      "57\n",
      "58\n",
      "59\n",
      "60\n",
      "61\n",
      "62\n",
      "63\n",
      "64\n",
      "65\n",
      "66\n",
      "67\n",
      "68\n",
      "69\n",
      "70\n",
      "71\n",
      "72\n",
      "73\n",
      "74\n",
      "75\n",
      "76\n",
      "77\n",
      "78\n",
      "79\n",
      "80\n",
      "81\n",
      "82\n",
      "83\n",
      "84\n",
      "85\n",
      "86\n",
      "87\n",
      "88\n",
      "89\n",
      "90\n",
      "91\n",
      "92\n",
      "93\n",
      "94\n",
      "95\n",
      "96\n",
      "97\n",
      "98\n",
      "99\n",
      "100\n"
     ]
    }
   ],
   "source": [
    "alist = range(1, 101)\n",
    "for i in alist:\n",
    "    print(i)"
   ]
  },
  {
   "cell_type": "code",
   "execution_count": 13,
   "id": "7aeafd1a",
   "metadata": {},
   "outputs": [
    {
     "data": {
      "text/plain": [
       "[44, 23, 21, 9, 28, 7]"
      ]
     },
     "execution_count": 13,
     "metadata": {},
     "output_type": "execute_result"
    }
   ],
   "source": [
    "# 로또 자동번호 생성기\n",
    "alist = range(1, 45)\n",
    "random.sample(alist, 6)"
   ]
  },
  {
   "cell_type": "code",
   "execution_count": 19,
   "id": "cad5e9fc",
   "metadata": {},
   "outputs": [
    {
     "data": {
      "text/plain": [
       "['In',\n",
       " 'Out',\n",
       " '_',\n",
       " '_1',\n",
       " '_10',\n",
       " '_11',\n",
       " '_13',\n",
       " '_2',\n",
       " '_5',\n",
       " '_6',\n",
       " '_7',\n",
       " '_8',\n",
       " '__',\n",
       " '___',\n",
       " '__builtin__',\n",
       " '__builtins__',\n",
       " '__doc__',\n",
       " '__loader__',\n",
       " '__name__',\n",
       " '__package__',\n",
       " '__spec__',\n",
       " '_dh',\n",
       " '_i',\n",
       " '_i1',\n",
       " '_i10',\n",
       " '_i11',\n",
       " '_i12',\n",
       " '_i13',\n",
       " '_i14',\n",
       " '_i15',\n",
       " '_i16',\n",
       " '_i17',\n",
       " '_i18',\n",
       " '_i19',\n",
       " '_i2',\n",
       " '_i3',\n",
       " '_i4',\n",
       " '_i5',\n",
       " '_i6',\n",
       " '_i7',\n",
       " '_i8',\n",
       " '_i9',\n",
       " '_ih',\n",
       " '_ii',\n",
       " '_iii',\n",
       " '_oh',\n",
       " 'alist',\n",
       " 'exit',\n",
       " 'get_ipython',\n",
       " 'i',\n",
       " 'math',\n",
       " 'quit',\n",
       " 'random',\n",
       " 'rlist',\n",
       " 'var01',\n",
       " 'var02']"
      ]
     },
     "execution_count": 19,
     "metadata": {},
     "output_type": "execute_result"
    }
   ],
   "source": [
    "# 메모리에 있는 변수 보기\n",
    "dir()"
   ]
  },
  {
   "cell_type": "code",
   "execution_count": 21,
   "id": "a26e31f7",
   "metadata": {},
   "outputs": [
    {
     "ename": "NameError",
     "evalue": "name 'var01' is not defined",
     "output_type": "error",
     "traceback": [
      "\u001b[0;31m---------------------------------------------------------------------------\u001b[0m",
      "\u001b[0;31mNameError\u001b[0m                                 Traceback (most recent call last)",
      "\u001b[0;32m<ipython-input-21-420553f71a41>\u001b[0m in \u001b[0;36m<module>\u001b[0;34m\u001b[0m\n\u001b[1;32m      1\u001b[0m \u001b[0;31m# 메모리에 있는 변수 지우기\u001b[0m\u001b[0;34m\u001b[0m\u001b[0;34m\u001b[0m\u001b[0;34m\u001b[0m\u001b[0m\n\u001b[1;32m      2\u001b[0m \u001b[0;32mdel\u001b[0m \u001b[0mvar01\u001b[0m\u001b[0;34m\u001b[0m\u001b[0;34m\u001b[0m\u001b[0m\n\u001b[0;32m----> 3\u001b[0;31m \u001b[0mvar01\u001b[0m\u001b[0;34m\u001b[0m\u001b[0;34m\u001b[0m\u001b[0m\n\u001b[0m",
      "\u001b[0;31mNameError\u001b[0m: name 'var01' is not defined"
     ]
    }
   ],
   "source": [
    "# 메모리에 있는 변수 지우기\n",
    "del var01\n",
    "var01"
   ]
  },
  {
   "cell_type": "markdown",
   "id": "d5960ea8",
   "metadata": {},
   "source": [
    "# 관계 연산자"
   ]
  },
  {
   "cell_type": "code",
   "execution_count": 22,
   "id": "f833772f",
   "metadata": {},
   "outputs": [],
   "source": [
    "num1 = 100\n",
    "num2 = 20"
   ]
  },
  {
   "cell_type": "code",
   "execution_count": 26,
   "id": "35214e34",
   "metadata": {},
   "outputs": [
    {
     "name": "stdout",
     "output_type": "stream",
     "text": [
      "False\n",
      "True\n"
     ]
    }
   ],
   "source": [
    "# 동등비교\n",
    "print(num1 == num2)\n",
    "# 값은 False\n",
    "print(num1 != num2)\n",
    "# 값은 True"
   ]
  },
  {
   "cell_type": "code",
   "execution_count": 29,
   "id": "bce0b355",
   "metadata": {},
   "outputs": [
    {
     "name": "stdout",
     "output_type": "stream",
     "text": [
      "True\n",
      "False\n",
      "True\n",
      "False\n"
     ]
    }
   ],
   "source": [
    "# 크기 비교\n",
    "num1 > num2\n",
    "num1 < num2\n",
    "\n",
    "# 위는 마지막 연산 결과만 보여주므로 print를 씀\n",
    "print(num1 > num2)\n",
    "print(num1 < num2)\n",
    "print(num1 >= num2)\n",
    "print(num1 <= num2)"
   ]
  },
  {
   "cell_type": "markdown",
   "id": "dc2b4826",
   "metadata": {},
   "source": [
    "# 논리연산자"
   ]
  },
  {
   "cell_type": "code",
   "execution_count": 32,
   "id": "5ba53532",
   "metadata": {},
   "outputs": [
    {
     "name": "stdout",
     "output_type": "stream",
     "text": [
      "False\n",
      "True\n"
     ]
    }
   ],
   "source": [
    "# And, Or\n",
    "print((num1 >= 50) & (num2 <= 10))\n",
    "print((num1 >= 50) | (num2 <= 10))"
   ]
  },
  {
   "cell_type": "code",
   "execution_count": 34,
   "id": "499679be",
   "metadata": {},
   "outputs": [
    {
     "data": {
      "text/plain": [
       "False"
      ]
     },
     "execution_count": 34,
     "metadata": {},
     "output_type": "execute_result"
    }
   ],
   "source": [
    "# 부정 연산자\n",
    "not(num1 >= 50)"
   ]
  },
  {
   "cell_type": "markdown",
   "id": "8905ab9f",
   "metadata": {},
   "source": [
    "---"
   ]
  },
  {
   "cell_type": "markdown",
   "id": "c42b7930",
   "metadata": {},
   "source": [
    "# 문자열 자료형"
   ]
  },
  {
   "cell_type": "code",
   "execution_count": 35,
   "id": "7781029a",
   "metadata": {},
   "outputs": [
    {
     "data": {
      "text/plain": [
       "'Hello World!'"
      ]
     },
     "execution_count": 35,
     "metadata": {},
     "output_type": "execute_result"
    }
   ],
   "source": [
    "var01 = \"Hello World!\"\n",
    "var01"
   ]
  },
  {
   "cell_type": "code",
   "execution_count": 40,
   "id": "f30052ed",
   "metadata": {},
   "outputs": [
    {
     "name": "stdout",
     "output_type": "stream",
     "text": [
      "\n",
      "        Hello World!\n",
      "        Good to meet you!\n",
      "\n"
     ]
    }
   ],
   "source": [
    "# 여러 줄의 문자열 출력 (<html></html>의 내용을 쓸 때 사용)\n",
    "\n",
    "var01 = \"\"\"\n",
    "        Hello World!\n",
    "        Good to meet you!\n",
    "\"\"\"\n",
    "print(var01)"
   ]
  },
  {
   "cell_type": "code",
   "execution_count": 42,
   "id": "5989b456",
   "metadata": {},
   "outputs": [
    {
     "name": "stdout",
     "output_type": "stream",
     "text": [
      "My fater's wife is my mother.\n",
      "He says \"I love you.\"\n"
     ]
    }
   ],
   "source": [
    "# 쌍따옴표와 홑따옴표의 사용\n",
    "var01 = \"My fater's wife is my mother.\"\n",
    "var02 = 'He says \"I love you.\"'\n",
    "print(var01)\n",
    "print(var02)"
   ]
  },
  {
   "cell_type": "code",
   "execution_count": 46,
   "id": "4e2fbb32",
   "metadata": {},
   "outputs": [
    {
     "name": "stdout",
     "output_type": "stream",
     "text": [
      "aaa\n",
      "bbb\n",
      "aaa\tbbb\n"
     ]
    }
   ],
   "source": [
    "# 특수문자를 사용한 출력(\\n, \\t)\n",
    "var03 = 'aaa\\nbbb'\n",
    "var04 = 'aaa\\tbbb'\n",
    "print(var03)\n",
    "print(var04)"
   ]
  },
  {
   "cell_type": "code",
   "execution_count": null,
   "id": "80bed7b4",
   "metadata": {},
   "outputs": [],
   "source": []
  },
  {
   "cell_type": "code",
   "execution_count": null,
   "id": "cfa24f39",
   "metadata": {},
   "outputs": [],
   "source": []
  },
  {
   "cell_type": "code",
   "execution_count": null,
   "id": "8ef0595e",
   "metadata": {},
   "outputs": [],
   "source": []
  },
  {
   "cell_type": "code",
   "execution_count": null,
   "id": "dc98f3d0",
   "metadata": {},
   "outputs": [],
   "source": []
  },
  {
   "cell_type": "code",
   "execution_count": null,
   "id": "741df621",
   "metadata": {},
   "outputs": [],
   "source": []
  }
 ],
 "metadata": {
  "kernelspec": {
   "display_name": "Python 3",
   "language": "python",
   "name": "python3"
  },
  "language_info": {
   "codemirror_mode": {
    "name": "ipython",
    "version": 3
   },
   "file_extension": ".py",
   "mimetype": "text/x-python",
   "name": "python",
   "nbconvert_exporter": "python",
   "pygments_lexer": "ipython3",
   "version": "3.8.8"
  }
 },
 "nbformat": 4,
 "nbformat_minor": 5
}
